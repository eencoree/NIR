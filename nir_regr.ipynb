{
 "cells": [
  {
   "cell_type": "code",
   "execution_count": 57,
   "outputs": [],
   "source": [
    "import matplotlib.pyplot as plt\n",
    "\n",
    "new_image_size = (600, 600)\n",
    "\n",
    "def crop_image_by_mask(img, mask):\n",
    "    cropped_image = img * mask[:, :]\n",
    "    coords = cv2.findNonZero((mask*255).astype(np.uint8))\n",
    "    x, y, w, h = cv2.boundingRect(coords)\n",
    "    cropped_image = cropped_image[y:y+h, x:x+w]\n",
    "\n",
    "    return cropped_image\n",
    "\n",
    "def preproc(image_folder):\n",
    "\n",
    "    for filename in os.listdir(image_folder):\n",
    "        img_path = os.path.join(image_folder, filename)\n",
    "        gray_img = cv2.imread(img_path, cv2.IMREAD_GRAYSCALE)\n",
    "\n",
    "        mask_name = filename.replace('lum', 'full-mask')\n",
    "        mask = cv2.imread(f'masks/{mask_name}', cv2.IMREAD_GRAYSCALE)\n",
    "        gray_img = crop_image_by_mask(gray_img, mask)\n",
    "\n",
    "        # clahe = cv2.createCLAHE(clipLimit=2.2, tileGridSize=(3, 3))\n",
    "        # contrast_img = clahe.apply(gray_img)\n",
    "        # resized_img = cv2.resize(contrast_img, new_image_size)\n",
    "\n",
    "        output_path = os.path.join(image_folder, filename)\n",
    "        cv2.imwrite(output_path, gray_img)\n"
   ],
   "metadata": {
    "collapsed": false,
    "ExecuteTime": {
     "end_time": "2023-12-12T08:02:56.203484Z",
     "start_time": "2023-12-12T08:02:56.192514100Z"
    }
   }
  },
  {
   "cell_type": "code",
   "execution_count": 58,
   "outputs": [],
   "source": [
    "import os\n",
    "import shutil\n",
    "import pandas as pd\n",
    "\n",
    "growing_time = ['24h', '48h', '72h', '96h']\n",
    "\n",
    "# Папка с результатами\n",
    "results_folder = 'results'\n",
    "\n",
    "# Папка для изображений и аннотаций\n",
    "output_images_folder = 'images'\n",
    "output_mask_folder = 'masks'\n",
    "output_annotations_folder = 'annotations'\n",
    "output_data_file = 'data.csv'\n",
    "\n",
    "# Создание папок для вывода\n",
    "os.makedirs(output_images_folder, exist_ok=True)\n",
    "os.makedirs(output_annotations_folder, exist_ok=True)\n",
    "os.makedirs(output_mask_folder, exist_ok=True)\n",
    "\n",
    "# Функция для извлечения аннотации из файла CSV\n",
    "def extract_annotation(csv_path):\n",
    "    try:\n",
    "        df = pd.read_csv(csv_path)\n",
    "    except FileNotFoundError:\n",
    "        return -1\n",
    "    return len(df) if not df.empty else 0\n",
    "\n",
    "data = {'ImageName': [], 'Annotation': []}\n",
    "\n",
    "# Перебор всех подпапок в results_folder\n",
    "for h in growing_time:\n",
    "    for root, dirs, files in os.walk(results_folder):\n",
    "        for dir_name in dirs:\n",
    "            # Проверка, заканчивается ли имя подпапки на h\n",
    "            if dir_name.endswith(h):\n",
    "                subdir_path = os.path.join(root, dir_name)\n",
    "\n",
    "                # Поиск последней вложенной папки\n",
    "                while len(os.listdir(subdir_path)) == 1:\n",
    "                    inner_dirs = next(os.walk(subdir_path))[1]\n",
    "                    subdir_path = os.path.join(subdir_path, inner_dirs[-1])\n",
    "\n",
    "                last_inner_dir = subdir_path\n",
    "                    # Перебор файлов в последней вложенной папке\n",
    "                for file_name in os.listdir(last_inner_dir):\n",
    "                    if file_name.endswith('.tif') and 'lum' in file_name:\n",
    "\n",
    "                        # подготовка пути к копированию изображения\n",
    "                        src_image_path = os.path.join(last_inner_dir, file_name)\n",
    "                        dest_image_path = os.path.join(output_images_folder, file_name)\n",
    "\n",
    "                        # Извлечение аннотации\n",
    "                        csv_name = file_name.replace('lum.tif', 'cell-tab.csv')\n",
    "                        csv_path = os.path.join(last_inner_dir, csv_name)\n",
    "                        annotation = extract_annotation(csv_path)\n",
    "                        if annotation == -1:\n",
    "                            continue\n",
    "\n",
    "                        # Извлечение маски\n",
    "                        mask_name = file_name.replace('lum', 'full-mask')\n",
    "                        mask_path = os.path.join(last_inner_dir, mask_name)\n",
    "                        dest_mask_path = os.path.join(output_mask_folder, mask_name)\n",
    "\n",
    "                        # Сохранение аннотации, маски и изображения в отдельные файлы\n",
    "                        shutil.copy2(src_image_path, dest_image_path)\n",
    "                        shutil.copy2(mask_path, dest_mask_path)\n",
    "                        dest_annotation_path = os.path.join(output_annotations_folder, f\"{file_name}.txt\")\n",
    "\n",
    "                        data['ImageName'].append(file_name)\n",
    "                        data['Annotation'].append(annotation)\n",
    "                        # with open(dest_annotation_path, 'w') as annotation_file:\n",
    "                        #     annotation_file.write(str(annotation))\n",
    "data_df = pd.DataFrame(data).drop_duplicates()\n",
    "data_df.to_csv(output_data_file, index=False)\n",
    "preproc(output_images_folder)"
   ],
   "metadata": {
    "collapsed": false,
    "ExecuteTime": {
     "end_time": "2023-12-12T08:03:08.361124300Z",
     "start_time": "2023-12-12T08:02:57.436736600Z"
    }
   }
  },
  {
   "cell_type": "code",
   "execution_count": 82,
   "outputs": [],
   "source": [
    "def read_annotation(annotation_dir, image_name):\n",
    "    annotation_file_path = os.path.join(annotation_dir, f\"{image_name}.txt\")\n",
    "\n",
    "    # Чтение численного значения из файла\n",
    "    with open(annotation_file_path, 'r') as file:\n",
    "        annotation_value = int(file.read().strip())\n",
    "\n",
    "    return annotation_value"
   ],
   "metadata": {
    "collapsed": false,
    "ExecuteTime": {
     "end_time": "2023-12-11T15:12:57.621658200Z",
     "start_time": "2023-12-11T15:12:57.604333500Z"
    }
   }
  },
  {
   "cell_type": "code",
   "execution_count": null,
   "outputs": [],
   "source": [
    "from keras.layers import GlobalAveragePooling2D\n",
    "import os\n",
    "import pandas as pd\n",
    "import cv2\n",
    "from sklearn.model_selection import train_test_split\n",
    "import tensorflow as tf\n",
    "from keras.preprocessing.image import ImageDataGenerator\n",
    "from keras.applications import Xception\n",
    "from keras.layers import Conv2D, Dense\n",
    "from keras.models import Model\n",
    "import numpy as np\n",
    "\n",
    "new_image_size = (600, 600)\n",
    "\n",
    "output_images_folder = 'images'\n",
    "\n",
    "df = pd.read_csv('data.csv')\n",
    "train_df, val_df = train_test_split(df, test_size=0.2, random_state=42)\n",
    "\n",
    "# Создание генераторов для обучающего и валидационного наборов\n",
    "train_datagen = ImageDataGenerator(\n",
    "    rescale=1.0 / 255.0,\n",
    "    rotation_range=20,\n",
    "    width_shift_range=0.2,\n",
    "    height_shift_range=0.2,\n",
    "    shear_range=0.2,\n",
    "    zoom_range=0.2,\n",
    "    horizontal_flip=True,\n",
    "    fill_mode='nearest'\n",
    ")\n",
    "\n",
    "val_datagen = ImageDataGenerator(rescale=1.0 / 255.0)\n",
    "\n",
    "batch_size = 16\n",
    "\n",
    "# train_generator = train_datagen.flow(X_train, y_train, batch_size=batch_size)\n",
    "# val_generator = val_datagen.flow(X_val, y_val, batch_size=batch_size)\n",
    "\n",
    "train_generator = train_datagen.flow_from_dataframe(\n",
    "    train_df,\n",
    "    directory=output_images_folder,\n",
    "    x_col='ImageName',\n",
    "    y_col='Annotation',\n",
    "    target_size=new_image_size,\n",
    "    batch_size=batch_size,\n",
    "    class_mode='raw',\n",
    "    color_mode='grayscale',\n",
    "    shuffle=True\n",
    ")\n",
    "\n",
    "val_generator = val_datagen.flow_from_dataframe(\n",
    "    val_df,\n",
    "    directory=output_images_folder,\n",
    "    x_col='ImageName',\n",
    "    y_col='Annotation',\n",
    "    target_size=new_image_size,\n",
    "    batch_size=batch_size,\n",
    "    class_mode='raw',\n",
    "    color_mode='grayscale',\n",
    "    shuffle=False\n",
    ")\n",
    "\n",
    "# Загрузка предварительно обученной модели Xception\n",
    "base_model = Xception(weights='imagenet', include_top=False)\n",
    "\n",
    "for layer in base_model.layers:\n",
    "    layer.trainable = False\n",
    "\n",
    "# Входной тензор для одноканального изображения\n",
    "input_image = tf.keras.Input(shape=(*new_image_size, 1))\n",
    "\n",
    "pseudo_rgb_image = Conv2D(3, (1, 1))(input_image)\n",
    "\n",
    "x = base_model(pseudo_rgb_image)\n",
    "cam_x = base_model.get_layer('block13_sepconv2_act')(x)\n",
    "x = GlobalAveragePooling2D()(cam_x)\n",
    "old_weights = base_model.get_weights()\n",
    "\n",
    "regression = Dense(1, activation='linear')(x)\n",
    "\n",
    "model = Model(inputs=input_image, outputs=regression)\n",
    "\n",
    "# Компилирование модели\n",
    "optimizer = tf.keras.optimizers.Adam(learning_rate=0.001)\n",
    "model.compile(optimizer=optimizer, loss='mse', metrics='mse')\n",
    "\n",
    "# Обучение модели\n",
    "model.fit(train_generator, epochs=1, validation_data=val_generator)\n",
    "regression_layer_weights = model.layers[-1].get_weights()"
   ],
   "metadata": {
    "collapsed": false
   }
  },
  {
   "cell_type": "code",
   "execution_count": 2,
   "outputs": [],
   "source": [
    "np.save('regression_weights_1.npy', regression_layer_weights[0])\n",
    "np.save('regression_weights_2.npy', regression_layer_weights[1])"
   ],
   "metadata": {
    "collapsed": false,
    "ExecuteTime": {
     "end_time": "2023-12-12T04:58:31.686571700Z",
     "start_time": "2023-12-12T04:58:31.290860900Z"
    }
   }
  },
  {
   "cell_type": "code",
   "execution_count": 3,
   "outputs": [],
   "source": [
    "import numpy as np\n",
    "regression_layer_weights = [np.load('regression_weights_1.npy'), np.load('regression_weights_2.npy')]"
   ],
   "metadata": {
    "collapsed": false,
    "ExecuteTime": {
     "end_time": "2023-12-12T06:12:29.818593900Z",
     "start_time": "2023-12-12T06:12:29.770412700Z"
    }
   }
  },
  {
   "cell_type": "code",
   "execution_count": 4,
   "outputs": [],
   "source": [
    "def preprocess_image(image_path, target_size=new_image_size):\n",
    "    img = cv2.imread(image_path, cv2.IMREAD_GRAYSCALE)\n",
    "    img = cv2.resize(img, target_size)\n",
    "    img = img / 255.0\n",
    "    img = np.expand_dims(img, axis=-1)\n",
    "    img = np.expand_dims(img, axis=0)\n",
    "\n",
    "    return img"
   ],
   "metadata": {
    "collapsed": false,
    "ExecuteTime": {
     "end_time": "2023-12-12T06:12:34.273476200Z",
     "start_time": "2023-12-12T06:12:34.250706400Z"
    }
   }
  },
  {
   "cell_type": "code",
   "execution_count": 19,
   "outputs": [],
   "source": [
    "image = preprocess_image('images/22 x40 a-lum.tif')"
   ],
   "metadata": {
    "collapsed": false,
    "ExecuteTime": {
     "end_time": "2023-12-12T06:17:43.739529800Z",
     "start_time": "2023-12-12T06:17:43.706792200Z"
    }
   }
  },
  {
   "cell_type": "code",
   "execution_count": 20,
   "outputs": [
    {
     "name": "stdout",
     "output_type": "stream",
     "text": [
      "1/1 [==============================] - 2s 2s/step\n"
     ]
    }
   ],
   "source": [
    "from keras.layers import Conv2D, GlobalAveragePooling2D, Dense\n",
    "from keras.applications import Xception\n",
    "import tensorflow as tf\n",
    "\n",
    "input_image = tf.keras.Input(shape=(*new_image_size, 1))\n",
    "\n",
    "pseudo_rgb_image = Conv2D(3, (1, 1))(input_image)\n",
    "base_model = Xception(weights='imagenet', include_top=False)\n",
    "x = base_model(pseudo_rgb_image)\n",
    "cam_x = base_model.get_layer('block13_sepconv2_act')(x)\n",
    "x = GlobalAveragePooling2D()(cam_x)\n",
    "regression = Dense(1, activation='linear')(x)\n",
    "\n",
    "model = tf.keras.Model(inputs=input_image, outputs=regression)\n",
    "model.layers[-1].set_weights(regression_layer_weights)\n",
    "prediction = model.predict(image)"
   ],
   "metadata": {
    "collapsed": false,
    "ExecuteTime": {
     "end_time": "2023-12-12T06:17:48.583027300Z",
     "start_time": "2023-12-12T06:17:44.445758900Z"
    }
   }
  },
  {
   "cell_type": "code",
   "execution_count": 21,
   "outputs": [
    {
     "data": {
      "text/plain": "array([[34.923717]], dtype=float32)"
     },
     "execution_count": 21,
     "metadata": {},
     "output_type": "execute_result"
    }
   ],
   "source": [
    "prediction"
   ],
   "metadata": {
    "collapsed": false,
    "ExecuteTime": {
     "end_time": "2023-12-12T06:17:48.641909Z",
     "start_time": "2023-12-12T06:17:48.585022Z"
    }
   }
  },
  {
   "cell_type": "code",
   "execution_count": 30,
   "outputs": [
    {
     "name": "stdout",
     "output_type": "stream",
     "text": [
      "1/1 [==============================] - 1s 977ms/step\n",
      "1/1 [==============================] - 1s 532ms/step\n",
      "1/1 [==============================] - 1s 510ms/step\n",
      "1/1 [==============================] - 1s 506ms/step\n",
      "1/1 [==============================] - 1s 688ms/step\n",
      "1/1 [==============================] - 1s 645ms/step\n",
      "1/1 [==============================] - 1s 688ms/step\n",
      "1/1 [==============================] - 0s 491ms/step\n",
      "1/1 [==============================] - 1s 528ms/step\n",
      "1/1 [==============================] - 1s 521ms/step\n",
      "1/1 [==============================] - 1s 509ms/step\n",
      "1/1 [==============================] - 1s 576ms/step\n",
      "1/1 [==============================] - 1s 671ms/step\n",
      "1/1 [==============================] - 1s 648ms/step\n",
      "1/1 [==============================] - 0s 488ms/step\n",
      "1/1 [==============================] - 1s 514ms/step\n",
      "1/1 [==============================] - 1s 504ms/step\n",
      "1/1 [==============================] - 1s 565ms/step\n",
      "1/1 [==============================] - 1s 667ms/step\n",
      "1/1 [==============================] - 1s 633ms/step\n",
      "1/1 [==============================] - 0s 496ms/step\n",
      "1/1 [==============================] - 1s 515ms/step\n",
      "1/1 [==============================] - 1s 522ms/step\n",
      "1/1 [==============================] - 1s 602ms/step\n",
      "1/1 [==============================] - 1s 630ms/step\n",
      "1/1 [==============================] - 1s 702ms/step\n",
      "1/1 [==============================] - 1s 520ms/step\n",
      "1/1 [==============================] - 1s 517ms/step\n",
      "1/1 [==============================] - 1s 504ms/step\n",
      "1/1 [==============================] - 1s 630ms/step\n",
      "1/1 [==============================] - 1s 670ms/step\n",
      "1/1 [==============================] - 1s 607ms/step\n",
      "1/1 [==============================] - 1s 518ms/step\n",
      "1/1 [==============================] - 1s 500ms/step\n",
      "1/1 [==============================] - 1s 519ms/step\n",
      "1/1 [==============================] - 1s 650ms/step\n",
      "1/1 [==============================] - 1s 705ms/step\n",
      "1/1 [==============================] - 1s 579ms/step\n",
      "1/1 [==============================] - 1s 524ms/step\n",
      "1/1 [==============================] - 1s 515ms/step\n",
      "1/1 [==============================] - 1s 560ms/step\n",
      "1/1 [==============================] - 1s 673ms/step\n",
      "1/1 [==============================] - 1s 641ms/step\n",
      "1/1 [==============================] - 1s 517ms/step\n",
      "1/1 [==============================] - 0s 492ms/step\n",
      "1/1 [==============================] - 1s 524ms/step\n",
      "1/1 [==============================] - 1s 519ms/step\n",
      "1/1 [==============================] - 1s 536ms/step\n",
      "1/1 [==============================] - 1s 644ms/step\n",
      "1/1 [==============================] - 1s 672ms/step\n",
      "1/1 [==============================] - 1s 640ms/step\n",
      "1/1 [==============================] - 0s 489ms/step\n",
      "1/1 [==============================] - 1s 521ms/step\n",
      "1/1 [==============================] - 1s 516ms/step\n",
      "1/1 [==============================] - 1s 644ms/step\n",
      "1/1 [==============================] - 1s 637ms/step\n",
      "1/1 [==============================] - 1s 567ms/step\n",
      "1/1 [==============================] - 1s 509ms/step\n",
      "1/1 [==============================] - 0s 477ms/step\n",
      "1/1 [==============================] - 1s 572ms/step\n",
      "1/1 [==============================] - 1s 537ms/step\n",
      "1/1 [==============================] - 1s 551ms/step\n",
      "1/1 [==============================] - 1s 568ms/step\n",
      "1/1 [==============================] - 0s 492ms/step\n",
      "1/1 [==============================] - 1s 559ms/step\n",
      "1/1 [==============================] - 1s 571ms/step\n",
      "1/1 [==============================] - 1s 535ms/step\n",
      "1/1 [==============================] - 1s 558ms/step\n",
      "1/1 [==============================] - 1s 539ms/step\n",
      "1/1 [==============================] - 1s 543ms/step\n",
      "1/1 [==============================] - 1s 580ms/step\n",
      "1/1 [==============================] - 1s 578ms/step\n",
      "1/1 [==============================] - 0s 498ms/step\n",
      "1/1 [==============================] - 1s 546ms/step\n",
      "1/1 [==============================] - 1s 532ms/step\n",
      "1/1 [==============================] - 1s 551ms/step\n",
      "1/1 [==============================] - 1s 551ms/step\n",
      "1/1 [==============================] - 1s 581ms/step\n",
      "1/1 [==============================] - 1s 576ms/step\n",
      "1/1 [==============================] - 1s 550ms/step\n",
      "1/1 [==============================] - 1s 559ms/step\n",
      "1/1 [==============================] - 1s 538ms/step\n",
      "1/1 [==============================] - 1s 562ms/step\n",
      "1/1 [==============================] - 1s 593ms/step\n",
      "1/1 [==============================] - 1s 555ms/step\n",
      "1/1 [==============================] - 1s 537ms/step\n",
      "1/1 [==============================] - 1s 573ms/step\n",
      "1/1 [==============================] - 1s 563ms/step\n",
      "1/1 [==============================] - 1s 559ms/step\n",
      "1/1 [==============================] - 1s 558ms/step\n",
      "1/1 [==============================] - 1s 579ms/step\n",
      "1/1 [==============================] - 1s 562ms/step\n",
      "1/1 [==============================] - 1s 609ms/step\n",
      "1/1 [==============================] - 1s 572ms/step\n",
      "1/1 [==============================] - 1s 632ms/step\n",
      "1/1 [==============================] - 1s 699ms/step\n",
      "1/1 [==============================] - 1s 763ms/step\n",
      "1/1 [==============================] - 1s 806ms/step\n",
      "1/1 [==============================] - 1s 745ms/step\n",
      "1/1 [==============================] - 1s 754ms/step\n",
      "1/1 [==============================] - 1s 559ms/step\n",
      "1/1 [==============================] - 1s 564ms/step\n",
      "1/1 [==============================] - 1s 526ms/step\n",
      "1/1 [==============================] - 1s 542ms/step\n",
      "1/1 [==============================] - 1s 565ms/step\n",
      "1/1 [==============================] - 1s 590ms/step\n",
      "1/1 [==============================] - 1s 642ms/step\n",
      "1/1 [==============================] - 1s 594ms/step\n",
      "1/1 [==============================] - 1s 540ms/step\n",
      "1/1 [==============================] - 1s 596ms/step\n",
      "1/1 [==============================] - 1s 587ms/step\n",
      "1/1 [==============================] - 1s 532ms/step\n",
      "1/1 [==============================] - 1s 636ms/step\n",
      "1/1 [==============================] - 1s 563ms/step\n",
      "1/1 [==============================] - 1s 630ms/step\n",
      "1/1 [==============================] - 1s 665ms/step\n",
      "1/1 [==============================] - 1s 610ms/step\n",
      "1/1 [==============================] - 1s 606ms/step\n",
      "1/1 [==============================] - 1s 572ms/step\n",
      "1/1 [==============================] - 1s 558ms/step\n",
      "1/1 [==============================] - 1s 622ms/step\n",
      "1/1 [==============================] - 1s 542ms/step\n",
      "1/1 [==============================] - 1s 503ms/step\n",
      "1/1 [==============================] - 1s 556ms/step\n",
      "1/1 [==============================] - 1s 555ms/step\n",
      "1/1 [==============================] - 1s 543ms/step\n",
      "1/1 [==============================] - 1s 557ms/step\n",
      "1/1 [==============================] - 1s 538ms/step\n",
      "1/1 [==============================] - 1s 543ms/step\n",
      "1/1 [==============================] - 1s 548ms/step\n",
      "1/1 [==============================] - 1s 542ms/step\n",
      "1/1 [==============================] - 1s 533ms/step\n",
      "1/1 [==============================] - 1s 552ms/step\n",
      "1/1 [==============================] - 1s 529ms/step\n",
      "1/1 [==============================] - 1s 554ms/step\n",
      "1/1 [==============================] - 1s 558ms/step\n",
      "1/1 [==============================] - 1s 550ms/step\n",
      "1/1 [==============================] - 1s 549ms/step\n",
      "1/1 [==============================] - 1s 557ms/step\n",
      "1/1 [==============================] - 1s 554ms/step\n",
      "1/1 [==============================] - 1s 578ms/step\n",
      "1/1 [==============================] - 1s 564ms/step\n",
      "1/1 [==============================] - 1s 563ms/step\n",
      "1/1 [==============================] - 1s 523ms/step\n",
      "1/1 [==============================] - 1s 539ms/step\n",
      "1/1 [==============================] - 1s 553ms/step\n",
      "1/1 [==============================] - 1s 543ms/step\n",
      "1/1 [==============================] - 1s 586ms/step\n",
      "1/1 [==============================] - 1s 533ms/step\n",
      "1/1 [==============================] - 1s 556ms/step\n",
      "1/1 [==============================] - 1s 559ms/step\n",
      "1/1 [==============================] - 1s 548ms/step\n",
      "1/1 [==============================] - 1s 561ms/step\n",
      "1/1 [==============================] - 1s 538ms/step\n",
      "1/1 [==============================] - 1s 547ms/step\n",
      "1/1 [==============================] - 1s 556ms/step\n",
      "1/1 [==============================] - 1s 543ms/step\n",
      "1/1 [==============================] - 1s 556ms/step\n",
      "1/1 [==============================] - 1s 576ms/step\n",
      "1/1 [==============================] - 1s 573ms/step\n",
      "1/1 [==============================] - 1s 547ms/step\n",
      "1/1 [==============================] - 1s 624ms/step\n",
      "1/1 [==============================] - 1s 541ms/step\n",
      "1/1 [==============================] - 1s 512ms/step\n",
      "1/1 [==============================] - 1s 544ms/step\n",
      "1/1 [==============================] - 1s 553ms/step\n",
      "1/1 [==============================] - 1s 563ms/step\n",
      "1/1 [==============================] - 1s 546ms/step\n",
      "1/1 [==============================] - 1s 545ms/step\n",
      "1/1 [==============================] - 1s 540ms/step\n",
      "1/1 [==============================] - 1s 561ms/step\n",
      "1/1 [==============================] - 0s 477ms/step\n",
      "1/1 [==============================] - 1s 540ms/step\n",
      "1/1 [==============================] - 1s 540ms/step\n",
      "1/1 [==============================] - 1s 557ms/step\n",
      "1/1 [==============================] - 1s 561ms/step\n",
      "1/1 [==============================] - 1s 545ms/step\n",
      "1/1 [==============================] - 1s 561ms/step\n",
      "1/1 [==============================] - 1s 523ms/step\n",
      "1/1 [==============================] - 1s 614ms/step\n",
      "1/1 [==============================] - 1s 543ms/step\n",
      "1/1 [==============================] - 1s 543ms/step\n",
      "1/1 [==============================] - 1s 583ms/step\n",
      "1/1 [==============================] - 1s 565ms/step\n",
      "1/1 [==============================] - 1s 542ms/step\n",
      "1/1 [==============================] - 1s 542ms/step\n",
      "1/1 [==============================] - 1s 555ms/step\n",
      "1/1 [==============================] - 1s 560ms/step\n",
      "1/1 [==============================] - 1s 542ms/step\n",
      "1/1 [==============================] - 1s 539ms/step\n",
      "1/1 [==============================] - 1s 574ms/step\n",
      "1/1 [==============================] - 1s 556ms/step\n",
      "1/1 [==============================] - 1s 544ms/step\n",
      "1/1 [==============================] - 1s 543ms/step\n",
      "1/1 [==============================] - 1s 554ms/step\n",
      "1/1 [==============================] - 1s 628ms/step\n",
      "1/1 [==============================] - 1s 540ms/step\n",
      "1/1 [==============================] - 1s 530ms/step\n",
      "1/1 [==============================] - 1s 579ms/step\n",
      "1/1 [==============================] - 1s 548ms/step\n",
      "1/1 [==============================] - 1s 557ms/step\n",
      "1/1 [==============================] - 1s 535ms/step\n",
      "1/1 [==============================] - 1s 565ms/step\n",
      "1/1 [==============================] - 1s 572ms/step\n",
      "1/1 [==============================] - 1s 539ms/step\n",
      "1/1 [==============================] - 1s 569ms/step\n",
      "1/1 [==============================] - 1s 559ms/step\n",
      "1/1 [==============================] - 1s 555ms/step\n",
      "1/1 [==============================] - 1s 537ms/step\n",
      "1/1 [==============================] - 1s 548ms/step\n",
      "1/1 [==============================] - 1s 555ms/step\n",
      "1/1 [==============================] - 1s 563ms/step\n",
      "1/1 [==============================] - 1s 541ms/step\n",
      "1/1 [==============================] - 1s 543ms/step\n",
      "1/1 [==============================] - 1s 552ms/step\n",
      "1/1 [==============================] - 1s 594ms/step\n",
      "1/1 [==============================] - 1s 576ms/step\n",
      "1/1 [==============================] - 1s 567ms/step\n",
      "1/1 [==============================] - 1s 613ms/step\n",
      "1/1 [==============================] - 1s 559ms/step\n",
      "1/1 [==============================] - 1s 553ms/step\n",
      "1/1 [==============================] - 1s 632ms/step\n",
      "1/1 [==============================] - 1s 625ms/step\n",
      "1/1 [==============================] - 1s 644ms/step\n",
      "1/1 [==============================] - 1s 587ms/step\n",
      "1/1 [==============================] - 1s 558ms/step\n",
      "1/1 [==============================] - 1s 555ms/step\n",
      "1/1 [==============================] - 1s 565ms/step\n",
      "1/1 [==============================] - 1s 548ms/step\n",
      "1/1 [==============================] - 1s 551ms/step\n",
      "1/1 [==============================] - 1s 514ms/step\n",
      "1/1 [==============================] - 1s 564ms/step\n",
      "1/1 [==============================] - 1s 537ms/step\n"
     ]
    }
   ],
   "source": [
    "import cv2\n",
    "\n",
    "df = pd.read_csv('data.csv')\n",
    "\n",
    "def predict_image(image_name):\n",
    "    img = preprocess_image(f'images/{image_name}')\n",
    "    prediction = model.predict(img)\n",
    "    return prediction\n",
    "\n",
    "df['Prediction'] = df['ImageName'].apply(predict_image)\n",
    "df.to_csv('data_with_predictions.csv', index=False)"
   ],
   "metadata": {
    "collapsed": false,
    "ExecuteTime": {
     "end_time": "2023-12-12T07:02:09.730538600Z",
     "start_time": "2023-12-12T06:59:08.893188400Z"
    }
   }
  },
  {
   "cell_type": "code",
   "execution_count": 40,
   "outputs": [
    {
     "name": "stdout",
     "output_type": "stream",
     "text": [
      "94.0\n"
     ]
    },
    {
     "data": {
      "text/plain": "<Figure size 640x480 with 1 Axes>",
      "image/png": "[encoded data removed]"
     },
     "metadata": {},
     "output_type": "display_data"
    }
   ],
   "source": [
    "df.hist('Annotation', bins=7)"
   ],
   "metadata": {
    "collapsed": false,
    "ExecuteTime": {
     "end_time": "2023-12-12T07:10:39.206252300Z",
     "start_time": "2023-12-12T07:10:38.864232600Z"
    }
   }
  },
  {
   "cell_type": "code",
   "execution_count": 59,
   "outputs": [
    {
     "data": {
      "text/plain": "<Figure size 640x480 with 1 Axes>",
      "image/png": "[encoded data removed]"
     },
     "metadata": {},
     "output_type": "display_data"
    }
   ],
   "source": [
    "img = cv2.imread('images/iPSCs 004  p 15 24 h m TESR 40x 5 tif-lum.tif', cv2.IMREAD_GRAYSCALE)\n",
    "plt.imshow(img, cmap='gray')\n",
    "plt.show()"
   ],
   "metadata": {
    "collapsed": false,
    "ExecuteTime": {
     "end_time": "2023-12-12T08:05:19.460086400Z",
     "start_time": "2023-12-12T08:05:19.262017300Z"
    }
   }
  }
 ],
 "metadata": {
  "kernelspec": {
   "display_name": "Python 3",
   "language": "python",
   "name": "python3"
  },
  "language_info": {
   "codemirror_mode": {
    "name": "ipython",
    "version": 2
   },
   "file_extension": ".py",
   "mimetype": "text/x-python",
   "name": "python",
   "nbconvert_exporter": "python",
   "pygments_lexer": "ipython2",
   "version": "2.7.6"
  }
 },
 "nbformat": 4,
 "nbformat_minor": 0
}
