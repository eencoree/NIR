{
 "cells": [
  {
   "cell_type": "code",
   "execution_count": 1,
   "outputs": [],
   "source": [
    "import cv2\n",
    "new_image_size = (500, 500)\n",
    "\n",
    "def preproc(image_folder):\n",
    "\n",
    "    for filename in os.listdir(image_folder):\n",
    "        img_path = os.path.join(image_folder, filename)\n",
    "        gray_img = cv2.imread(img_path, cv2.IMREAD_GRAYSCALE)\n",
    "\n",
    "        clahe = cv2.createCLAHE(clipLimit=2.2, tileGridSize=(3, 3))\n",
    "        contrast_img = clahe.apply(gray_img)\n",
    "        resized_img = cv2.resize(contrast_img, new_image_size)\n",
    "\n",
    "        output_path = os.path.join(image_folder, filename)\n",
    "        cv2.imwrite(output_path, resized_img)"
   ],
   "metadata": {
    "collapsed": false,
    "ExecuteTime": {
     "end_time": "2023-12-05T06:06:26.037250100Z",
     "start_time": "2023-12-05T06:06:25.735974500Z"
    }
   }
  },
  {
   "cell_type": "code",
   "execution_count": 2,
   "outputs": [],
   "source": [
    "import os\n",
    "import shutil\n",
    "import pandas as pd\n",
    "\n",
    "growing_time = ['24h', '48h', '72h', '96h']\n",
    "\n",
    "# Папка с результатами\n",
    "results_folder = 'results'\n",
    "\n",
    "# Папка для изображений и аннотаций\n",
    "output_images_folder = 'images'\n",
    "output_annotations_folder = 'annotations'\n",
    "\n",
    "# Создание папок для вывода\n",
    "os.makedirs(output_images_folder, exist_ok=True)\n",
    "os.makedirs(output_annotations_folder, exist_ok=True)\n",
    "\n",
    "# Функция для извлечения аннотации из файла CSV\n",
    "def extract_annotation(csv_path):\n",
    "    try:\n",
    "        df = pd.read_csv(csv_path)\n",
    "    except FileNotFoundError:\n",
    "        return -1\n",
    "    return len(df) if not df.empty else 0\n",
    "\n",
    "# Перебор всех подпапок в results_folder\n",
    "for h in growing_time:\n",
    "    for root, dirs, files in os.walk(results_folder):\n",
    "        for dir_name in dirs:\n",
    "            # Проверка, заканчивается ли имя подпапки на h\n",
    "            if dir_name.endswith(h):\n",
    "                subdir_path = os.path.join(root, dir_name)\n",
    "\n",
    "                # Поиск последней вложенной папки\n",
    "                while len(os.listdir(subdir_path)) == 1:\n",
    "                    inner_dirs = next(os.walk(subdir_path))[1]\n",
    "                    subdir_path = os.path.join(subdir_path, inner_dirs[-1])\n",
    "\n",
    "                last_inner_dir = subdir_path\n",
    "                    # Перебор файлов в последней вложенной папке\n",
    "                for file_name in os.listdir(last_inner_dir):\n",
    "                    if file_name.endswith('.tif') and 'orig-crop' in file_name:\n",
    "\n",
    "                        # подготовка пути к копированию изображения\n",
    "                        src_image_path = os.path.join(last_inner_dir, file_name)\n",
    "                        dest_image_path = os.path.join(output_images_folder, file_name)\n",
    "\n",
    "                        # Извлечение аннотации\n",
    "                        csv_name = file_name.replace('orig-crop.tif', 'cell-tab.csv')\n",
    "                        csv_path = os.path.join(last_inner_dir, csv_name)\n",
    "                        annotation = extract_annotation(csv_path)\n",
    "                        if annotation == -1:\n",
    "                            continue\n",
    "\n",
    "                        # Сохранение аннотации и изображения в отдельные папки\n",
    "                        shutil.copy2(src_image_path, dest_image_path)\n",
    "                        dest_annotation_path = os.path.join(output_annotations_folder, f\"{file_name}.txt\")\n",
    "                        with open(dest_annotation_path, 'w') as annotation_file:\n",
    "                            annotation_file.write(str(annotation))\n",
    "preproc(output_images_folder)"
   ],
   "metadata": {
    "collapsed": false,
    "ExecuteTime": {
     "end_time": "2023-12-05T06:06:34.699590300Z",
     "start_time": "2023-12-05T06:06:27.173528Z"
    }
   }
  },
  {
   "cell_type": "code",
   "execution_count": 3,
   "outputs": [],
   "source": [
    "def read_annotation(annotation_dir, image_name):\n",
    "    annotation_file_path = os.path.join(annotation_dir, f\"{image_name}.txt\")\n",
    "\n",
    "    # Чтение численного значения из файла\n",
    "    with open(annotation_file_path, 'r') as file:\n",
    "        annotation_value = int(file.read().strip())\n",
    "\n",
    "    return annotation_value"
   ],
   "metadata": {
    "collapsed": false,
    "ExecuteTime": {
     "end_time": "2023-12-05T06:06:34.715213400Z",
     "start_time": "2023-12-05T06:06:34.699590300Z"
    }
   }
  },
  {
   "cell_type": "code",
   "execution_count": null,
   "outputs": [],
   "source": [
    "from keras.layers import GlobalAveragePooling2D\n",
    "import os\n",
    "import cv2\n",
    "from sklearn.model_selection import train_test_split\n",
    "import tensorflow as tf\n",
    "from keras.preprocessing.image import ImageDataGenerator\n",
    "from keras.applications import Xception\n",
    "from keras.layers import Conv2D, Dense\n",
    "from keras.models import Model\n",
    "import numpy as np\n",
    "\n",
    "output_images_folder = 'images'\n",
    "output_annotations_folder = 'annotations'\n",
    "\n",
    "annotations = {}\n",
    "\n",
    "for image in os.listdir(output_images_folder):\n",
    "    annotations[image] = read_annotation(output_annotations_folder, image)\n",
    "\n",
    "images = []\n",
    "labels = []\n",
    "\n",
    "\n",
    "image_names = os.listdir(output_images_folder)\n",
    "for image_name in image_names:\n",
    "    image_path = os.path.join(output_images_folder, image_name)\n",
    "    img = cv2.imread(image_path, cv2.IMREAD_GRAYSCALE)\n",
    "    images.append(img)\n",
    "    labels.append(annotations[image_name])\n",
    "\n",
    "images = np.array(images)\n",
    "labels = np.array(labels)\n",
    "\n",
    "X_train, X_val, y_train, y_val = train_test_split(images, labels, test_size=0.2, random_state=42)\n",
    "X_train = np.expand_dims(X_train, axis=-1)\n",
    "X_val = np.expand_dims(X_val, axis=-1)\n",
    "\n",
    "# Создание генераторов для обучающего и валидационного наборов\n",
    "train_datagen = ImageDataGenerator(\n",
    "    rescale=1.0 / 255.0,\n",
    "    rotation_range=20,\n",
    "    width_shift_range=0.2,\n",
    "    height_shift_range=0.2,\n",
    "    shear_range=0.2,\n",
    "    zoom_range=0.2,\n",
    "    horizontal_flip=True,\n",
    "    fill_mode='nearest'\n",
    ")\n",
    "\n",
    "val_datagen = ImageDataGenerator(rescale=1.0 / 255.0)\n",
    "\n",
    "batch_size = 16\n",
    "\n",
    "train_generator = train_datagen.flow(X_train, y_train, batch_size=batch_size)\n",
    "val_generator = val_datagen.flow(X_val, y_val, batch_size=batch_size)\n",
    "\n",
    "# Загрузка предварительно обученной модели Xception\n",
    "base_model = Xception(weights='imagenet', include_top=False)\n",
    "\n",
    "# Входной тензор для одноканального изображения\n",
    "input_image = tf.keras.Input(shape=(*new_image_size, 1))\n",
    "\n",
    "pseudo_rgb_image = Conv2D(3, (1, 1))(input_image)\n",
    "\n",
    "x = base_model(pseudo_rgb_image)\n",
    "cam_x = base_model.get_layer('block13_sepconv2_act')(x)\n",
    "x = GlobalAveragePooling2D()(cam_x)\n",
    "old_weights = base_model.get_weights()\n",
    "\n",
    "regression = Dense(1, activation='linear')(x)\n",
    "\n",
    "model = Model(inputs=input_image, outputs=regression)\n",
    "\n",
    "# Компилирование модели\n",
    "optimizer = tf.keras.optimizers.Adam(learning_rate=0.001)\n",
    "model.compile(optimizer=optimizer, loss='mse', metrics='mse')\n",
    "\n",
    "# Обучение модели\n",
    "model.fit(train_generator, epochs=5, validation_data=val_generator)\n",
    "regression_layer_weights = model.layers[-1].get_weights()"
   ],
   "metadata": {
    "collapsed": false
   }
  },
  {
   "cell_type": "code",
   "execution_count": null,
   "outputs": [],
   "source": [
    "np.save('regression_weights_1.npy', regression_layer_weights[0])\n",
    "np.save('regression_weights_2.npy', regression_layer_weights[1])"
   ],
   "metadata": {
    "collapsed": false,
    "is_executing": true
   }
  },
  {
   "cell_type": "code",
   "execution_count": 6,
   "outputs": [],
   "source": [
    "import numpy as np\n",
    "regression_layer_weights = [np.load('regression_weights_1.npy'), np.load('regression_weights_2.npy')]"
   ],
   "metadata": {
    "collapsed": false,
    "ExecuteTime": {
     "end_time": "2023-12-04T15:40:48.952786600Z",
     "start_time": "2023-12-04T15:40:48.937308300Z"
    }
   }
  },
  {
   "cell_type": "code",
   "execution_count": 7,
   "outputs": [],
   "source": [
    "def preprocess_image(image_path, target_size=new_image_size):\n",
    "    img = cv2.imread(image_path, cv2.IMREAD_GRAYSCALE)\n",
    "    img = cv2.resize(img, target_size)\n",
    "    img = img / 255.0\n",
    "    img = np.expand_dims(img, axis=-1)\n",
    "    img = np.expand_dims(img, axis=0)\n",
    "\n",
    "    return img"
   ],
   "metadata": {
    "collapsed": false,
    "ExecuteTime": {
     "end_time": "2023-12-04T15:40:49.860802700Z",
     "start_time": "2023-12-04T15:40:49.846843100Z"
    }
   }
  },
  {
   "cell_type": "code",
   "execution_count": 15,
   "outputs": [],
   "source": [
    "image = preprocess_image('images/ad3 (m) mTESR p16 24h 40x 6-orig-crop.tif')"
   ],
   "metadata": {
    "collapsed": false,
    "ExecuteTime": {
     "end_time": "2023-12-04T15:57:16.849370300Z",
     "start_time": "2023-12-04T15:57:16.824515Z"
    }
   }
  },
  {
   "cell_type": "code",
   "execution_count": null,
   "outputs": [],
   "source": [
    "from keras import Model\n",
    "from keras.layers import Conv2D, GlobalAveragePooling2D, Dense\n",
    "from keras.applications import Xception\n",
    "import tensorflow as tf\n",
    "\n",
    "input_image = tf.keras.Input(shape=(*new_image_size, 1))\n",
    "\n",
    "pseudo_rgb_image = Conv2D(3, (1, 1))(input_image)\n",
    "x = base_model(pseudo_rgb_image)\n",
    "cam_x = base_model.get_layer('block13_sepconv2_act')(x)\n",
    "x = GlobalAveragePooling2D()(cam_x)\n",
    "regression = Dense(1, activation='linear')(x)\n",
    "\n",
    "model = tf.keras.Model(inputs=input_image, outputs=regression)\n",
    "model.layers[-1].set_weights(regression_layer_weights)\n",
    "\n",
    "prediction = model.predict(image)\n",
    "print(prediction)\n"
   ],
   "metadata": {
    "collapsed": false
   }
  }
 ],
 "metadata": {
  "kernelspec": {
   "display_name": "Python 3",
   "language": "python",
   "name": "python3"
  },
  "language_info": {
   "codemirror_mode": {
    "name": "ipython",
    "version": 2
   },
   "file_extension": ".py",
   "mimetype": "text/x-python",
   "name": "python",
   "nbconvert_exporter": "python",
   "pygments_lexer": "ipython2",
   "version": "2.7.6"
  }
 },
 "nbformat": 4,
 "nbformat_minor": 0
}
