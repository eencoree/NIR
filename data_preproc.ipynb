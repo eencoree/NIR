{
 "cells": [
  {
   "cell_type": "code",
   "execution_count": 25,
   "metadata": {
    "collapsed": true,
    "ExecuteTime": {
     "end_time": "2023-11-14T07:35:31.335179300Z",
     "start_time": "2023-11-14T07:35:31.031672200Z"
    }
   },
   "outputs": [],
   "source": [
    "import cv2\n",
    "import os\n",
    "import numpy as np\n",
    "\n",
    "new_image_size = (448, 448)\n",
    "\n",
    "image_folder = 'orig'\n",
    "output_folder = 'output'\n",
    "\n",
    "if not os.path.exists(output_folder):\n",
    "    os.makedirs(output_folder)\n",
    "\n",
    "for filename in os.listdir(image_folder):\n",
    "    img_path = os.path.join(image_folder, filename)\n",
    "    gray_img = cv2.imread(img_path, cv2.IMREAD_GRAYSCALE)\n",
    "\n",
    "    # contrast_img = cv2.convertScaleAbs(gray_img, alpha=alpha, beta=beta)\n",
    "    clahe = cv2.createCLAHE(clipLimit=2.2, tileGridSize=(3, 3))\n",
    "    contrast_img = clahe.apply(gray_img)\n",
    "    # resized_img = cv2.resize(contrast_img, new_image_size)\n",
    "    #\n",
    "    output_path = os.path.join(output_folder, filename)\n",
    "    cv2.imwrite(output_path, contrast_img)"
   ]
  }
 ],
 "metadata": {
  "kernelspec": {
   "display_name": "Python 3",
   "language": "python",
   "name": "python3"
  },
  "language_info": {
   "codemirror_mode": {
    "name": "ipython",
    "version": 2
   },
   "file_extension": ".py",
   "mimetype": "text/x-python",
   "name": "python",
   "nbconvert_exporter": "python",
   "pygments_lexer": "ipython2",
   "version": "2.7.6"
  }
 },
 "nbformat": 4,
 "nbformat_minor": 0
}
